{
 "cells": [
  {
   "cell_type": "code",
   "execution_count": 1,
   "id": "908cbf5a",
   "metadata": {},
   "outputs": [],
   "source": [
    "from transformers import AutoTokenizer, AutoModelForSequenceClassification\n",
    "import torch\n",
    "import requests\n",
    "from bs4 import BeautifulSoup\n",
    "import re"
   ]
  },
  {
   "cell_type": "code",
   "execution_count": 2,
   "id": "12c51f4c",
   "metadata": {},
   "outputs": [
    {
     "data": {
      "application/vnd.jupyter.widget-view+json": {
       "model_id": "91d0614adf744b289e9c03b4bab35356",
       "version_major": 2,
       "version_minor": 0
      },
      "text/plain": [
       "Downloading:   0%|          | 0.00/39.0 [00:00<?, ?B/s]"
      ]
     },
     "metadata": {},
     "output_type": "display_data"
    },
    {
     "name": "stderr",
     "output_type": "stream",
     "text": [
      "C:\\Users\\Basel Bakeer\\anaconda3\\lib\\site-packages\\huggingface_hub\\file_download.py:123: UserWarning: `huggingface_hub` cache-system uses symlinks by default to efficiently store duplicated files but your machine does not support them in C:\\Users\\Basel Bakeer\\.cache\\huggingface\\hub. Caching files will still work but in a degraded version that might require more space on your disk. This warning can be disabled by setting the `HF_HUB_DISABLE_SYMLINKS_WARNING` environment variable. For more details, see https://huggingface.co/docs/huggingface_hub/how-to-cache#limitations.\n",
      "To support symlinks on Windows, you either need to activate Developer Mode or to run Python as an administrator. In order to see activate developer mode, see this article: https://docs.microsoft.com/en-us/windows/apps/get-started/enable-your-device-for-development\n",
      "  warnings.warn(message)\n"
     ]
    },
    {
     "data": {
      "application/vnd.jupyter.widget-view+json": {
       "model_id": "0dc14aed717543519a61c8dd20db1882",
       "version_major": 2,
       "version_minor": 0
      },
      "text/plain": [
       "Downloading:   0%|          | 0.00/953 [00:00<?, ?B/s]"
      ]
     },
     "metadata": {},
     "output_type": "display_data"
    },
    {
     "data": {
      "application/vnd.jupyter.widget-view+json": {
       "model_id": "89d86abef6554770a5470bdd4d1a9952",
       "version_major": 2,
       "version_minor": 0
      },
      "text/plain": [
       "Downloading:   0%|          | 0.00/872k [00:00<?, ?B/s]"
      ]
     },
     "metadata": {},
     "output_type": "display_data"
    },
    {
     "data": {
      "application/vnd.jupyter.widget-view+json": {
       "model_id": "3e93d6bcf47846678041eac29eb909ff",
       "version_major": 2,
       "version_minor": 0
      },
      "text/plain": [
       "Downloading:   0%|          | 0.00/112 [00:00<?, ?B/s]"
      ]
     },
     "metadata": {},
     "output_type": "display_data"
    },
    {
     "data": {
      "application/vnd.jupyter.widget-view+json": {
       "model_id": "b5258cdea36c46d196817b32b69bdb6a",
       "version_major": 2,
       "version_minor": 0
      },
      "text/plain": [
       "Downloading:   0%|          | 0.00/669M [00:00<?, ?B/s]"
      ]
     },
     "metadata": {},
     "output_type": "display_data"
    }
   ],
   "source": [
    "tokenizer = AutoTokenizer.from_pretrained('nlptown/bert-base-multilingual-uncased-sentiment')\n",
    "\n",
    "model = AutoModelForSequenceClassification.from_pretrained('nlptown/bert-base-multilingual-uncased-sentiment')"
   ]
  },
  {
   "cell_type": "code",
   "execution_count": 6,
   "id": "3954c079",
   "metadata": {},
   "outputs": [
    {
     "data": {
      "text/plain": [
       "4"
      ]
     },
     "execution_count": 6,
     "metadata": {},
     "output_type": "execute_result"
    }
   ],
   "source": [
    "int(torch.argmax(result.logits))+1\n"
   ]
  },
  {
   "cell_type": "code",
   "execution_count": 7,
   "id": "2c9faf68",
   "metadata": {},
   "outputs": [],
   "source": [
    "import numpy as np\n",
    "import pandas as pd\n"
   ]
  },
  {
   "cell_type": "code",
   "execution_count": 8,
   "id": "5fac7df8",
   "metadata": {},
   "outputs": [],
   "source": [
    "df = pd.read_excel(\"E://my ml models//Data analysis//archive (12)//HotelReviews cleand.xlsx\")"
   ]
  },
  {
   "cell_type": "code",
   "execution_count": 9,
   "id": "4e4161c5",
   "metadata": {},
   "outputs": [
    {
     "data": {
      "text/html": [
       "<div>\n",
       "<style scoped>\n",
       "    .dataframe tbody tr th:only-of-type {\n",
       "        vertical-align: middle;\n",
       "    }\n",
       "\n",
       "    .dataframe tbody tr th {\n",
       "        vertical-align: top;\n",
       "    }\n",
       "\n",
       "    .dataframe thead th {\n",
       "        text-align: right;\n",
       "    }\n",
       "</style>\n",
       "<table border=\"1\" class=\"dataframe\">\n",
       "  <thead>\n",
       "    <tr style=\"text-align: right;\">\n",
       "      <th></th>\n",
       "      <th>Index</th>\n",
       "      <th>Name</th>\n",
       "      <th>Area.1</th>\n",
       "      <th>city</th>\n",
       "      <th>Review_Date</th>\n",
       "      <th>Rating(Out of 10)</th>\n",
       "      <th>Review_Text</th>\n",
       "    </tr>\n",
       "  </thead>\n",
       "  <tbody>\n",
       "    <tr>\n",
       "      <th>0</th>\n",
       "      <td>0</td>\n",
       "      <td>Hotel The Pearl</td>\n",
       "      <td>Paharganj</td>\n",
       "      <td>New Delhi</td>\n",
       "      <td>7/23/2023</td>\n",
       "      <td>9</td>\n",
       "      <td>Hotel the pearl is perfect place to stay in De...</td>\n",
       "    </tr>\n",
       "    <tr>\n",
       "      <th>1</th>\n",
       "      <td>1</td>\n",
       "      <td>Hotel The Pearl</td>\n",
       "      <td>Paharganj</td>\n",
       "      <td>New Delhi</td>\n",
       "      <td>8/23/2023</td>\n",
       "      <td>9</td>\n",
       "      <td>Location of the hotel is perfect. The hotel is...</td>\n",
       "    </tr>\n",
       "    <tr>\n",
       "      <th>2</th>\n",
       "      <td>2</td>\n",
       "      <td>Hotel The Pearl</td>\n",
       "      <td>Paharganj</td>\n",
       "      <td>New Delhi</td>\n",
       "      <td>8/23/2023</td>\n",
       "      <td>9</td>\n",
       "      <td>Location, Indian food.</td>\n",
       "    </tr>\n",
       "    <tr>\n",
       "      <th>3</th>\n",
       "      <td>3</td>\n",
       "      <td>Hotel The Pearl</td>\n",
       "      <td>Paharganj</td>\n",
       "      <td>New Delhi</td>\n",
       "      <td>8/23/2023</td>\n",
       "      <td>9</td>\n",
       "      <td>The location and the hotel itself is great. Ne...</td>\n",
       "    </tr>\n",
       "    <tr>\n",
       "      <th>4</th>\n",
       "      <td>4</td>\n",
       "      <td>Hotel The Pearl</td>\n",
       "      <td>Paharganj</td>\n",
       "      <td>New Delhi</td>\n",
       "      <td>8/23/2023</td>\n",
       "      <td>9</td>\n",
       "      <td>Friendly and smiling staffs.. The reception st...</td>\n",
       "    </tr>\n",
       "    <tr>\n",
       "      <th>...</th>\n",
       "      <td>...</td>\n",
       "      <td>...</td>\n",
       "      <td>...</td>\n",
       "      <td>...</td>\n",
       "      <td>...</td>\n",
       "      <td>...</td>\n",
       "      <td>...</td>\n",
       "    </tr>\n",
       "    <tr>\n",
       "      <th>995</th>\n",
       "      <td>995</td>\n",
       "      <td>THE HOTEL AMBIENCE</td>\n",
       "      <td>Paharganj</td>\n",
       "      <td>New Delhi</td>\n",
       "      <td>8/23/2023</td>\n",
       "      <td>9</td>\n",
       "      <td>Value for money. Clineliness.</td>\n",
       "    </tr>\n",
       "    <tr>\n",
       "      <th>996</th>\n",
       "      <td>996</td>\n",
       "      <td>THE HOTEL AMBIENCE</td>\n",
       "      <td>Paharganj</td>\n",
       "      <td>New Delhi</td>\n",
       "      <td>8/23/2023</td>\n",
       "      <td>9</td>\n",
       "      <td>눀 – great helpful staff and good location. roo...</td>\n",
       "    </tr>\n",
       "    <tr>\n",
       "      <th>997</th>\n",
       "      <td>997</td>\n",
       "      <td>THE HOTEL AMBIENCE</td>\n",
       "      <td>Paharganj</td>\n",
       "      <td>New Delhi</td>\n",
       "      <td>8/23/2023</td>\n",
       "      <td>10</td>\n",
       "      <td>Location was great….next to all amenities</td>\n",
       "    </tr>\n",
       "    <tr>\n",
       "      <th>998</th>\n",
       "      <td>998</td>\n",
       "      <td>THE HOTEL AMBIENCE</td>\n",
       "      <td>Paharganj</td>\n",
       "      <td>New Delhi</td>\n",
       "      <td>8/23/2023</td>\n",
       "      <td>10</td>\n",
       "      <td>Value for money. The staff are very helpful an...</td>\n",
       "    </tr>\n",
       "    <tr>\n",
       "      <th>999</th>\n",
       "      <td>999</td>\n",
       "      <td>THE HOTEL AMBIENCE</td>\n",
       "      <td>Paharganj</td>\n",
       "      <td>New Delhi</td>\n",
       "      <td>8/23/2023</td>\n",
       "      <td>9</td>\n",
       "      <td>Absolutely gorgeous and beautiful hotel. hotel...</td>\n",
       "    </tr>\n",
       "  </tbody>\n",
       "</table>\n",
       "<p>1000 rows × 7 columns</p>\n",
       "</div>"
      ],
      "text/plain": [
       "     Index                Name     Area.1       city Review_Date  \\\n",
       "0        0     Hotel The Pearl  Paharganj  New Delhi   7/23/2023   \n",
       "1        1     Hotel The Pearl  Paharganj  New Delhi   8/23/2023   \n",
       "2        2     Hotel The Pearl  Paharganj  New Delhi   8/23/2023   \n",
       "3        3     Hotel The Pearl  Paharganj  New Delhi   8/23/2023   \n",
       "4        4     Hotel The Pearl  Paharganj  New Delhi   8/23/2023   \n",
       "..     ...                 ...        ...        ...         ...   \n",
       "995    995  THE HOTEL AMBIENCE  Paharganj  New Delhi   8/23/2023   \n",
       "996    996  THE HOTEL AMBIENCE  Paharganj  New Delhi   8/23/2023   \n",
       "997    997  THE HOTEL AMBIENCE  Paharganj  New Delhi   8/23/2023   \n",
       "998    998  THE HOTEL AMBIENCE  Paharganj  New Delhi   8/23/2023   \n",
       "999    999  THE HOTEL AMBIENCE  Paharganj  New Delhi   8/23/2023   \n",
       "\n",
       "     Rating(Out of 10)                                        Review_Text  \n",
       "0                    9  Hotel the pearl is perfect place to stay in De...  \n",
       "1                    9  Location of the hotel is perfect. The hotel is...  \n",
       "2                    9                             Location, Indian food.  \n",
       "3                    9  The location and the hotel itself is great. Ne...  \n",
       "4                    9  Friendly and smiling staffs.. The reception st...  \n",
       "..                 ...                                                ...  \n",
       "995                  9                      Value for money. Clineliness.  \n",
       "996                  9  눀 – great helpful staff and good location. roo...  \n",
       "997                 10          Location was great….next to all amenities  \n",
       "998                 10  Value for money. The staff are very helpful an...  \n",
       "999                  9  Absolutely gorgeous and beautiful hotel. hotel...  \n",
       "\n",
       "[1000 rows x 7 columns]"
      ]
     },
     "execution_count": 9,
     "metadata": {},
     "output_type": "execute_result"
    }
   ],
   "source": [
    "df"
   ]
  },
  {
   "cell_type": "code",
   "execution_count": 10,
   "id": "39355f4b",
   "metadata": {},
   "outputs": [],
   "source": [
    "data=df['Review_Text']"
   ]
  },
  {
   "cell_type": "code",
   "execution_count": 11,
   "id": "572ce3fe",
   "metadata": {},
   "outputs": [
    {
     "data": {
      "text/plain": [
       "0      Hotel the pearl is perfect place to stay in De...\n",
       "1      Location of the hotel is perfect. The hotel is...\n",
       "2                                 Location, Indian food.\n",
       "3      The location and the hotel itself is great. Ne...\n",
       "4      Friendly and smiling staffs.. The reception st...\n",
       "                             ...                        \n",
       "995                        Value for money. Clineliness.\n",
       "996    눀 – great helpful staff and good location. roo...\n",
       "997            Location was great….next to all amenities\n",
       "998    Value for money. The staff are very helpful an...\n",
       "999    Absolutely gorgeous and beautiful hotel. hotel...\n",
       "Name: Review_Text, Length: 1000, dtype: object"
      ]
     },
     "execution_count": 11,
     "metadata": {},
     "output_type": "execute_result"
    }
   ],
   "source": [
    "data"
   ]
  },
  {
   "cell_type": "code",
   "execution_count": 12,
   "id": "fbaa0373",
   "metadata": {},
   "outputs": [],
   "source": [
    "def sentiment_score(data):\n",
    "    tokens = tokenizer.encode(data, return_tensors='pt')\n",
    "    result = model(tokens)\n",
    "    return int(torch.argmax(result.logits))+1"
   ]
  },
  {
   "cell_type": "code",
   "execution_count": 13,
   "id": "fc457cda",
   "metadata": {},
   "outputs": [
    {
     "data": {
      "text/plain": [
       "5"
      ]
     },
     "execution_count": 13,
     "metadata": {},
     "output_type": "execute_result"
    }
   ],
   "source": [
    "sentiment_score(df['Review_Text'].iloc[1])\n"
   ]
  },
  {
   "cell_type": "code",
   "execution_count": 16,
   "id": "4aefa4b4",
   "metadata": {},
   "outputs": [],
   "source": [
    "\n",
    "df['sentiment'] = df['Review_Text'].apply(lambda x: sentiment_score(x[:512]) if isinstance(x, str) else np.nan)\n"
   ]
  },
  {
   "cell_type": "code",
   "execution_count": 17,
   "id": "35891519",
   "metadata": {},
   "outputs": [
    {
     "data": {
      "text/html": [
       "<div>\n",
       "<style scoped>\n",
       "    .dataframe tbody tr th:only-of-type {\n",
       "        vertical-align: middle;\n",
       "    }\n",
       "\n",
       "    .dataframe tbody tr th {\n",
       "        vertical-align: top;\n",
       "    }\n",
       "\n",
       "    .dataframe thead th {\n",
       "        text-align: right;\n",
       "    }\n",
       "</style>\n",
       "<table border=\"1\" class=\"dataframe\">\n",
       "  <thead>\n",
       "    <tr style=\"text-align: right;\">\n",
       "      <th></th>\n",
       "      <th>Index</th>\n",
       "      <th>Name</th>\n",
       "      <th>Area.1</th>\n",
       "      <th>city</th>\n",
       "      <th>Review_Date</th>\n",
       "      <th>Rating(Out of 10)</th>\n",
       "      <th>Review_Text</th>\n",
       "      <th>sentiment</th>\n",
       "    </tr>\n",
       "  </thead>\n",
       "  <tbody>\n",
       "    <tr>\n",
       "      <th>0</th>\n",
       "      <td>0</td>\n",
       "      <td>Hotel The Pearl</td>\n",
       "      <td>Paharganj</td>\n",
       "      <td>New Delhi</td>\n",
       "      <td>7/23/2023</td>\n",
       "      <td>9</td>\n",
       "      <td>Hotel the pearl is perfect place to stay in De...</td>\n",
       "      <td>5.0</td>\n",
       "    </tr>\n",
       "    <tr>\n",
       "      <th>1</th>\n",
       "      <td>1</td>\n",
       "      <td>Hotel The Pearl</td>\n",
       "      <td>Paharganj</td>\n",
       "      <td>New Delhi</td>\n",
       "      <td>8/23/2023</td>\n",
       "      <td>9</td>\n",
       "      <td>Location of the hotel is perfect. The hotel is...</td>\n",
       "      <td>5.0</td>\n",
       "    </tr>\n",
       "    <tr>\n",
       "      <th>2</th>\n",
       "      <td>2</td>\n",
       "      <td>Hotel The Pearl</td>\n",
       "      <td>Paharganj</td>\n",
       "      <td>New Delhi</td>\n",
       "      <td>8/23/2023</td>\n",
       "      <td>9</td>\n",
       "      <td>Location, Indian food.</td>\n",
       "      <td>4.0</td>\n",
       "    </tr>\n",
       "    <tr>\n",
       "      <th>3</th>\n",
       "      <td>3</td>\n",
       "      <td>Hotel The Pearl</td>\n",
       "      <td>Paharganj</td>\n",
       "      <td>New Delhi</td>\n",
       "      <td>8/23/2023</td>\n",
       "      <td>9</td>\n",
       "      <td>The location and the hotel itself is great. Ne...</td>\n",
       "      <td>5.0</td>\n",
       "    </tr>\n",
       "    <tr>\n",
       "      <th>4</th>\n",
       "      <td>4</td>\n",
       "      <td>Hotel The Pearl</td>\n",
       "      <td>Paharganj</td>\n",
       "      <td>New Delhi</td>\n",
       "      <td>8/23/2023</td>\n",
       "      <td>9</td>\n",
       "      <td>Friendly and smiling staffs.. The reception st...</td>\n",
       "      <td>5.0</td>\n",
       "    </tr>\n",
       "    <tr>\n",
       "      <th>...</th>\n",
       "      <td>...</td>\n",
       "      <td>...</td>\n",
       "      <td>...</td>\n",
       "      <td>...</td>\n",
       "      <td>...</td>\n",
       "      <td>...</td>\n",
       "      <td>...</td>\n",
       "      <td>...</td>\n",
       "    </tr>\n",
       "    <tr>\n",
       "      <th>995</th>\n",
       "      <td>995</td>\n",
       "      <td>THE HOTEL AMBIENCE</td>\n",
       "      <td>Paharganj</td>\n",
       "      <td>New Delhi</td>\n",
       "      <td>8/23/2023</td>\n",
       "      <td>9</td>\n",
       "      <td>Value for money. Clineliness.</td>\n",
       "      <td>5.0</td>\n",
       "    </tr>\n",
       "    <tr>\n",
       "      <th>996</th>\n",
       "      <td>996</td>\n",
       "      <td>THE HOTEL AMBIENCE</td>\n",
       "      <td>Paharganj</td>\n",
       "      <td>New Delhi</td>\n",
       "      <td>8/23/2023</td>\n",
       "      <td>9</td>\n",
       "      <td>눀 – great helpful staff and good location. roo...</td>\n",
       "      <td>5.0</td>\n",
       "    </tr>\n",
       "    <tr>\n",
       "      <th>997</th>\n",
       "      <td>997</td>\n",
       "      <td>THE HOTEL AMBIENCE</td>\n",
       "      <td>Paharganj</td>\n",
       "      <td>New Delhi</td>\n",
       "      <td>8/23/2023</td>\n",
       "      <td>10</td>\n",
       "      <td>Location was great….next to all amenities</td>\n",
       "      <td>5.0</td>\n",
       "    </tr>\n",
       "    <tr>\n",
       "      <th>998</th>\n",
       "      <td>998</td>\n",
       "      <td>THE HOTEL AMBIENCE</td>\n",
       "      <td>Paharganj</td>\n",
       "      <td>New Delhi</td>\n",
       "      <td>8/23/2023</td>\n",
       "      <td>10</td>\n",
       "      <td>Value for money. The staff are very helpful an...</td>\n",
       "      <td>5.0</td>\n",
       "    </tr>\n",
       "    <tr>\n",
       "      <th>999</th>\n",
       "      <td>999</td>\n",
       "      <td>THE HOTEL AMBIENCE</td>\n",
       "      <td>Paharganj</td>\n",
       "      <td>New Delhi</td>\n",
       "      <td>8/23/2023</td>\n",
       "      <td>9</td>\n",
       "      <td>Absolutely gorgeous and beautiful hotel. hotel...</td>\n",
       "      <td>5.0</td>\n",
       "    </tr>\n",
       "  </tbody>\n",
       "</table>\n",
       "<p>1000 rows × 8 columns</p>\n",
       "</div>"
      ],
      "text/plain": [
       "     Index                Name     Area.1       city Review_Date  \\\n",
       "0        0     Hotel The Pearl  Paharganj  New Delhi   7/23/2023   \n",
       "1        1     Hotel The Pearl  Paharganj  New Delhi   8/23/2023   \n",
       "2        2     Hotel The Pearl  Paharganj  New Delhi   8/23/2023   \n",
       "3        3     Hotel The Pearl  Paharganj  New Delhi   8/23/2023   \n",
       "4        4     Hotel The Pearl  Paharganj  New Delhi   8/23/2023   \n",
       "..     ...                 ...        ...        ...         ...   \n",
       "995    995  THE HOTEL AMBIENCE  Paharganj  New Delhi   8/23/2023   \n",
       "996    996  THE HOTEL AMBIENCE  Paharganj  New Delhi   8/23/2023   \n",
       "997    997  THE HOTEL AMBIENCE  Paharganj  New Delhi   8/23/2023   \n",
       "998    998  THE HOTEL AMBIENCE  Paharganj  New Delhi   8/23/2023   \n",
       "999    999  THE HOTEL AMBIENCE  Paharganj  New Delhi   8/23/2023   \n",
       "\n",
       "     Rating(Out of 10)                                        Review_Text  \\\n",
       "0                    9  Hotel the pearl is perfect place to stay in De...   \n",
       "1                    9  Location of the hotel is perfect. The hotel is...   \n",
       "2                    9                             Location, Indian food.   \n",
       "3                    9  The location and the hotel itself is great. Ne...   \n",
       "4                    9  Friendly and smiling staffs.. The reception st...   \n",
       "..                 ...                                                ...   \n",
       "995                  9                      Value for money. Clineliness.   \n",
       "996                  9  눀 – great helpful staff and good location. roo...   \n",
       "997                 10          Location was great….next to all amenities   \n",
       "998                 10  Value for money. The staff are very helpful an...   \n",
       "999                  9  Absolutely gorgeous and beautiful hotel. hotel...   \n",
       "\n",
       "     sentiment  \n",
       "0          5.0  \n",
       "1          5.0  \n",
       "2          4.0  \n",
       "3          5.0  \n",
       "4          5.0  \n",
       "..         ...  \n",
       "995        5.0  \n",
       "996        5.0  \n",
       "997        5.0  \n",
       "998        5.0  \n",
       "999        5.0  \n",
       "\n",
       "[1000 rows x 8 columns]"
      ]
     },
     "execution_count": 17,
     "metadata": {},
     "output_type": "execute_result"
    }
   ],
   "source": [
    "df"
   ]
  },
  {
   "cell_type": "code",
   "execution_count": 21,
   "id": "1ac7fda1",
   "metadata": {},
   "outputs": [],
   "source": [
    "df.to_excel(\"E:\\\\my ml models\\\\Data analysis\\\\archive (12)\\\\DataAfterSentmentanalysis.xlsx\")"
   ]
  },
  {
   "cell_type": "code",
   "execution_count": null,
   "id": "4e2502a4",
   "metadata": {},
   "outputs": [],
   "source": []
  }
 ],
 "metadata": {
  "kernelspec": {
   "display_name": "Python 3 (ipykernel)",
   "language": "python",
   "name": "python3"
  },
  "language_info": {
   "codemirror_mode": {
    "name": "ipython",
    "version": 3
   },
   "file_extension": ".py",
   "mimetype": "text/x-python",
   "name": "python",
   "nbconvert_exporter": "python",
   "pygments_lexer": "ipython3",
   "version": "3.10.13"
  }
 },
 "nbformat": 4,
 "nbformat_minor": 5
}
